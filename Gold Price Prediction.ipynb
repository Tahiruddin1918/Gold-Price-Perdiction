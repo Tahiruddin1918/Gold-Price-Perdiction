{
 "cells": [
  {
   "cell_type": "markdown",
   "id": "6364b307",
   "metadata": {},
   "source": [
    "# 🎯 Predicting Gold Price in a Separate Notebook\n",
    "\n",
    "This notebook allows you to input market parameters and predict the gold price using the trained Random Forest model.\n",
    "\n",
    "Steps:\n",
    "1. Load the trained model using `joblib`.\n",
    "2. Enter values for **SPX**, **SLV**, **Year**, and **Month**.\n",
    "3. Format the input as a NumPy array.\n",
    "4. Use the `.predict()` method to get the forecasted gold price."
   ]
  },
  {
   "cell_type": "code",
   "execution_count": 1,
   "id": "54fe7582",
   "metadata": {},
   "outputs": [],
   "source": [
    "import joblib\n",
    "import numpy as np\n",
    "import warnings\n",
    "warnings.filterwarnings('ignore')"
   ]
  },
  {
   "cell_type": "code",
   "execution_count": 2,
   "id": "acdbffd5",
   "metadata": {},
   "outputs": [],
   "source": [
    "regressor = joblib.load('gold_price_model.pkl')"
   ]
  },
  {
   "cell_type": "code",
   "execution_count": 3,
   "id": "8b36138d",
   "metadata": {},
   "outputs": [
    {
     "name": "stdout",
     "output_type": "stream",
     "text": [
      "\n",
      "Predicted Gold Price with List Input: 150.71\n"
     ]
    }
   ],
   "source": [
    "list_of_variables = ['SPX', 'SLV', 'Year', 'Month']\n",
    "list_of_values = []\n",
    "\n",
    "for var in list_of_variables:\n",
    "    if var == 'SPX' or var == 'SLV':\n",
    "        value = float(input(f\"Enter value for {var}: \"))\n",
    "    else:\n",
    "        value = int(input(f\"Enter value for {var}: \"))\n",
    "    list_of_values.append(value)\n",
    "\n",
    "input_data = np.array([list_of_values])\n",
    "predicted_price = regressor.predict(input_data)\n",
    "print(f\"\\nPredicted Gold Price with List Input: {predicted_price[0]:.2f}\")"
   ]
  }
 ],
 "metadata": {
  "kernelspec": {
   "display_name": "Python 3",
   "language": "python",
   "name": "python3"
  },
  "language_info": {
   "codemirror_mode": {
    "name": "ipython",
    "version": 3
   },
   "file_extension": ".py",
   "mimetype": "text/x-python",
   "name": "python",
   "nbconvert_exporter": "python",
   "pygments_lexer": "ipython3",
   "version": "3.13.2"
  }
 },
 "nbformat": 4,
 "nbformat_minor": 5
}
